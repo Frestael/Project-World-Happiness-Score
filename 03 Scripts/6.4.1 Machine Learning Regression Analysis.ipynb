{
 "cells": [
  {
   "cell_type": "markdown",
   "id": "67194c37-4f6c-4fae-b534-6bbdc217319e",
   "metadata": {},
   "source": [
    "## 6.4 Machine Learning Part 1"
   ]
  },
  {
   "cell_type": "markdown",
   "id": "a881b608-732a-43bd-83a4-9fbb6e482776",
   "metadata": {},
   "source": [
    "### This script contains the following:\n",
    "\n",
    "#### 1. Importing libraries and data\n",
    "#### 2. Data cleaning\n",
    "#### 3. Data prep for regression analysis\n",
    "#### 4. Regression analysis"
   ]
  },
  {
   "cell_type": "markdown",
   "id": "849fd71a-6029-4f36-b467-3664218f099e",
   "metadata": {},
   "source": [
    "### 1. Importing libraries and data"
   ]
  },
  {
   "cell_type": "code",
   "execution_count": 1,
   "id": "872be42c-2a0f-4e1f-8d46-109656bd5c70",
   "metadata": {},
   "outputs": [],
   "source": [
    "import pandas as pd\n",
    "import numpy as np\n",
    "import seaborn as sns\n",
    "import matplotlib\n",
    "import matplotlib.pyplot as plt\n",
    "import os\n",
    "import sklearn\n",
    "from sklearn.model_selection import train_test_split \n",
    "from sklearn.linear_model import LinearRegression\n",
    "from sklearn.metrics import mean_squared_error, r2_score"
   ]
  },
  {
   "cell_type": "code",
   "execution_count": 2,
   "id": "ce68d8ec-9977-4327-9a9a-057744b9d8c8",
   "metadata": {},
   "outputs": [],
   "source": [
    "# This option ensures that the graphs you create are displayed within the notebook without the need to \"call\" them specifically.\n",
    "\n",
    "%matplotlib inline"
   ]
  },
  {
   "cell_type": "code",
   "execution_count": 3,
   "id": "35c0bdc5-34d6-4b5b-98ca-381e537aa759",
   "metadata": {},
   "outputs": [
    {
     "data": {
      "text/plain": [
       "'0.13.2'"
      ]
     },
     "execution_count": 3,
     "metadata": {},
     "output_type": "execute_result"
    }
   ],
   "source": [
    "sns.__version__"
   ]
  },
  {
   "cell_type": "code",
   "execution_count": 4,
   "id": "8ed4454e-6a5d-46bc-88d7-aaa81bd5c30a",
   "metadata": {},
   "outputs": [],
   "source": [
    "# Tell Python to remember a main folder path\n",
    "path = r'C:\\Users\\Frederick\\Documents\\CareerFoundry\\CF - Data Analytics Immersion\\Achievement6\\05-2024 World Happiness Report'"
   ]
  },
  {
   "cell_type": "code",
   "execution_count": 5,
   "id": "dc4ec441-dc43-4e0d-8f2f-297cfc8e78ce",
   "metadata": {},
   "outputs": [],
   "source": [
    "# import 2019 data\n",
    "\n",
    "df = pd.read_csv(os.path.join(path,'02 Data','Prepared Data','2019_checked.csv'), index_col = False)"
   ]
  },
  {
   "cell_type": "markdown",
   "id": "d0cd5c01-3574-41cf-97ad-a5c534cab909",
   "metadata": {},
   "source": [
    "### 2. Data cleaning"
   ]
  },
  {
   "cell_type": "code",
   "execution_count": 6,
   "id": "fbba490c-cc4b-430d-bfa2-d12acf7c725c",
   "metadata": {},
   "outputs": [
    {
     "data": {
      "text/plain": [
       "Index(['Unnamed: 0', 'Overall rank', 'Country or region', 'Score',\n",
       "       'GDP per capita', 'Social support', 'Healthy life expectancy',\n",
       "       'Freedom to make life choices', 'Generosity',\n",
       "       'Perceptions of corruption'],\n",
       "      dtype='object')"
      ]
     },
     "execution_count": 6,
     "metadata": {},
     "output_type": "execute_result"
    }
   ],
   "source": [
    "df.columns"
   ]
  },
  {
   "cell_type": "code",
   "execution_count": 7,
   "id": "54e9db11-1c32-4552-837e-e890809b8395",
   "metadata": {},
   "outputs": [
    {
     "data": {
      "text/html": [
       "<div>\n",
       "<style scoped>\n",
       "    .dataframe tbody tr th:only-of-type {\n",
       "        vertical-align: middle;\n",
       "    }\n",
       "\n",
       "    .dataframe tbody tr th {\n",
       "        vertical-align: top;\n",
       "    }\n",
       "\n",
       "    .dataframe thead th {\n",
       "        text-align: right;\n",
       "    }\n",
       "</style>\n",
       "<table border=\"1\" class=\"dataframe\">\n",
       "  <thead>\n",
       "    <tr style=\"text-align: right;\">\n",
       "      <th></th>\n",
       "      <th>Unnamed: 0</th>\n",
       "      <th>Overall rank</th>\n",
       "      <th>Country or region</th>\n",
       "      <th>Score</th>\n",
       "      <th>GDP per capita</th>\n",
       "      <th>Social support</th>\n",
       "      <th>Healthy life expectancy</th>\n",
       "      <th>Freedom to make life choices</th>\n",
       "      <th>Generosity</th>\n",
       "      <th>Perceptions of corruption</th>\n",
       "    </tr>\n",
       "  </thead>\n",
       "  <tbody>\n",
       "    <tr>\n",
       "      <th>0</th>\n",
       "      <td>0</td>\n",
       "      <td>1</td>\n",
       "      <td>Finland</td>\n",
       "      <td>7.769</td>\n",
       "      <td>1.340</td>\n",
       "      <td>1.587</td>\n",
       "      <td>0.986</td>\n",
       "      <td>0.596</td>\n",
       "      <td>0.153</td>\n",
       "      <td>0.393</td>\n",
       "    </tr>\n",
       "    <tr>\n",
       "      <th>1</th>\n",
       "      <td>1</td>\n",
       "      <td>2</td>\n",
       "      <td>Denmark</td>\n",
       "      <td>7.600</td>\n",
       "      <td>1.383</td>\n",
       "      <td>1.573</td>\n",
       "      <td>0.996</td>\n",
       "      <td>0.592</td>\n",
       "      <td>0.252</td>\n",
       "      <td>0.410</td>\n",
       "    </tr>\n",
       "    <tr>\n",
       "      <th>2</th>\n",
       "      <td>2</td>\n",
       "      <td>3</td>\n",
       "      <td>Norway</td>\n",
       "      <td>7.554</td>\n",
       "      <td>1.488</td>\n",
       "      <td>1.582</td>\n",
       "      <td>1.028</td>\n",
       "      <td>0.603</td>\n",
       "      <td>0.271</td>\n",
       "      <td>0.341</td>\n",
       "    </tr>\n",
       "    <tr>\n",
       "      <th>3</th>\n",
       "      <td>3</td>\n",
       "      <td>4</td>\n",
       "      <td>Iceland</td>\n",
       "      <td>7.494</td>\n",
       "      <td>1.380</td>\n",
       "      <td>1.624</td>\n",
       "      <td>1.026</td>\n",
       "      <td>0.591</td>\n",
       "      <td>0.354</td>\n",
       "      <td>0.118</td>\n",
       "    </tr>\n",
       "    <tr>\n",
       "      <th>4</th>\n",
       "      <td>4</td>\n",
       "      <td>5</td>\n",
       "      <td>Netherlands</td>\n",
       "      <td>7.488</td>\n",
       "      <td>1.396</td>\n",
       "      <td>1.522</td>\n",
       "      <td>0.999</td>\n",
       "      <td>0.557</td>\n",
       "      <td>0.322</td>\n",
       "      <td>0.298</td>\n",
       "    </tr>\n",
       "    <tr>\n",
       "      <th>5</th>\n",
       "      <td>5</td>\n",
       "      <td>6</td>\n",
       "      <td>Switzerland</td>\n",
       "      <td>7.480</td>\n",
       "      <td>1.452</td>\n",
       "      <td>1.526</td>\n",
       "      <td>1.052</td>\n",
       "      <td>0.572</td>\n",
       "      <td>0.263</td>\n",
       "      <td>0.343</td>\n",
       "    </tr>\n",
       "    <tr>\n",
       "      <th>6</th>\n",
       "      <td>6</td>\n",
       "      <td>7</td>\n",
       "      <td>Sweden</td>\n",
       "      <td>7.343</td>\n",
       "      <td>1.387</td>\n",
       "      <td>1.487</td>\n",
       "      <td>1.009</td>\n",
       "      <td>0.574</td>\n",
       "      <td>0.267</td>\n",
       "      <td>0.373</td>\n",
       "    </tr>\n",
       "    <tr>\n",
       "      <th>7</th>\n",
       "      <td>7</td>\n",
       "      <td>8</td>\n",
       "      <td>New Zealand</td>\n",
       "      <td>7.307</td>\n",
       "      <td>1.303</td>\n",
       "      <td>1.557</td>\n",
       "      <td>1.026</td>\n",
       "      <td>0.585</td>\n",
       "      <td>0.330</td>\n",
       "      <td>0.380</td>\n",
       "    </tr>\n",
       "    <tr>\n",
       "      <th>8</th>\n",
       "      <td>8</td>\n",
       "      <td>9</td>\n",
       "      <td>Canada</td>\n",
       "      <td>7.278</td>\n",
       "      <td>1.365</td>\n",
       "      <td>1.505</td>\n",
       "      <td>1.039</td>\n",
       "      <td>0.584</td>\n",
       "      <td>0.285</td>\n",
       "      <td>0.308</td>\n",
       "    </tr>\n",
       "    <tr>\n",
       "      <th>9</th>\n",
       "      <td>9</td>\n",
       "      <td>10</td>\n",
       "      <td>Austria</td>\n",
       "      <td>7.246</td>\n",
       "      <td>1.376</td>\n",
       "      <td>1.475</td>\n",
       "      <td>1.016</td>\n",
       "      <td>0.532</td>\n",
       "      <td>0.244</td>\n",
       "      <td>0.226</td>\n",
       "    </tr>\n",
       "    <tr>\n",
       "      <th>10</th>\n",
       "      <td>10</td>\n",
       "      <td>11</td>\n",
       "      <td>Australia</td>\n",
       "      <td>7.228</td>\n",
       "      <td>1.372</td>\n",
       "      <td>1.548</td>\n",
       "      <td>1.036</td>\n",
       "      <td>0.557</td>\n",
       "      <td>0.332</td>\n",
       "      <td>0.290</td>\n",
       "    </tr>\n",
       "    <tr>\n",
       "      <th>11</th>\n",
       "      <td>11</td>\n",
       "      <td>12</td>\n",
       "      <td>Costa Rica</td>\n",
       "      <td>7.167</td>\n",
       "      <td>1.034</td>\n",
       "      <td>1.441</td>\n",
       "      <td>0.963</td>\n",
       "      <td>0.558</td>\n",
       "      <td>0.144</td>\n",
       "      <td>0.093</td>\n",
       "    </tr>\n",
       "    <tr>\n",
       "      <th>12</th>\n",
       "      <td>12</td>\n",
       "      <td>13</td>\n",
       "      <td>Israel</td>\n",
       "      <td>7.139</td>\n",
       "      <td>1.276</td>\n",
       "      <td>1.455</td>\n",
       "      <td>1.029</td>\n",
       "      <td>0.371</td>\n",
       "      <td>0.261</td>\n",
       "      <td>0.082</td>\n",
       "    </tr>\n",
       "    <tr>\n",
       "      <th>13</th>\n",
       "      <td>13</td>\n",
       "      <td>14</td>\n",
       "      <td>Luxembourg</td>\n",
       "      <td>7.090</td>\n",
       "      <td>1.609</td>\n",
       "      <td>1.479</td>\n",
       "      <td>1.012</td>\n",
       "      <td>0.526</td>\n",
       "      <td>0.194</td>\n",
       "      <td>0.316</td>\n",
       "    </tr>\n",
       "    <tr>\n",
       "      <th>14</th>\n",
       "      <td>14</td>\n",
       "      <td>15</td>\n",
       "      <td>United Kingdom</td>\n",
       "      <td>7.054</td>\n",
       "      <td>1.333</td>\n",
       "      <td>1.538</td>\n",
       "      <td>0.996</td>\n",
       "      <td>0.450</td>\n",
       "      <td>0.348</td>\n",
       "      <td>0.278</td>\n",
       "    </tr>\n",
       "    <tr>\n",
       "      <th>15</th>\n",
       "      <td>15</td>\n",
       "      <td>16</td>\n",
       "      <td>Ireland</td>\n",
       "      <td>7.021</td>\n",
       "      <td>1.499</td>\n",
       "      <td>1.553</td>\n",
       "      <td>0.999</td>\n",
       "      <td>0.516</td>\n",
       "      <td>0.298</td>\n",
       "      <td>0.310</td>\n",
       "    </tr>\n",
       "    <tr>\n",
       "      <th>16</th>\n",
       "      <td>16</td>\n",
       "      <td>17</td>\n",
       "      <td>Germany</td>\n",
       "      <td>6.985</td>\n",
       "      <td>1.373</td>\n",
       "      <td>1.454</td>\n",
       "      <td>0.987</td>\n",
       "      <td>0.495</td>\n",
       "      <td>0.261</td>\n",
       "      <td>0.265</td>\n",
       "    </tr>\n",
       "    <tr>\n",
       "      <th>17</th>\n",
       "      <td>17</td>\n",
       "      <td>18</td>\n",
       "      <td>Belgium</td>\n",
       "      <td>6.923</td>\n",
       "      <td>1.356</td>\n",
       "      <td>1.504</td>\n",
       "      <td>0.986</td>\n",
       "      <td>0.473</td>\n",
       "      <td>0.160</td>\n",
       "      <td>0.210</td>\n",
       "    </tr>\n",
       "    <tr>\n",
       "      <th>18</th>\n",
       "      <td>18</td>\n",
       "      <td>19</td>\n",
       "      <td>United States</td>\n",
       "      <td>6.892</td>\n",
       "      <td>1.433</td>\n",
       "      <td>1.457</td>\n",
       "      <td>0.874</td>\n",
       "      <td>0.454</td>\n",
       "      <td>0.280</td>\n",
       "      <td>0.128</td>\n",
       "    </tr>\n",
       "    <tr>\n",
       "      <th>19</th>\n",
       "      <td>19</td>\n",
       "      <td>20</td>\n",
       "      <td>Czech Republic</td>\n",
       "      <td>6.852</td>\n",
       "      <td>1.269</td>\n",
       "      <td>1.487</td>\n",
       "      <td>0.920</td>\n",
       "      <td>0.457</td>\n",
       "      <td>0.046</td>\n",
       "      <td>0.036</td>\n",
       "    </tr>\n",
       "  </tbody>\n",
       "</table>\n",
       "</div>"
      ],
      "text/plain": [
       "    Unnamed: 0  Overall rank Country or region  Score  GDP per capita  \\\n",
       "0            0             1           Finland  7.769           1.340   \n",
       "1            1             2           Denmark  7.600           1.383   \n",
       "2            2             3            Norway  7.554           1.488   \n",
       "3            3             4           Iceland  7.494           1.380   \n",
       "4            4             5       Netherlands  7.488           1.396   \n",
       "5            5             6       Switzerland  7.480           1.452   \n",
       "6            6             7            Sweden  7.343           1.387   \n",
       "7            7             8       New Zealand  7.307           1.303   \n",
       "8            8             9            Canada  7.278           1.365   \n",
       "9            9            10           Austria  7.246           1.376   \n",
       "10          10            11         Australia  7.228           1.372   \n",
       "11          11            12        Costa Rica  7.167           1.034   \n",
       "12          12            13            Israel  7.139           1.276   \n",
       "13          13            14        Luxembourg  7.090           1.609   \n",
       "14          14            15    United Kingdom  7.054           1.333   \n",
       "15          15            16           Ireland  7.021           1.499   \n",
       "16          16            17           Germany  6.985           1.373   \n",
       "17          17            18           Belgium  6.923           1.356   \n",
       "18          18            19     United States  6.892           1.433   \n",
       "19          19            20    Czech Republic  6.852           1.269   \n",
       "\n",
       "    Social support  Healthy life expectancy  Freedom to make life choices  \\\n",
       "0            1.587                    0.986                         0.596   \n",
       "1            1.573                    0.996                         0.592   \n",
       "2            1.582                    1.028                         0.603   \n",
       "3            1.624                    1.026                         0.591   \n",
       "4            1.522                    0.999                         0.557   \n",
       "5            1.526                    1.052                         0.572   \n",
       "6            1.487                    1.009                         0.574   \n",
       "7            1.557                    1.026                         0.585   \n",
       "8            1.505                    1.039                         0.584   \n",
       "9            1.475                    1.016                         0.532   \n",
       "10           1.548                    1.036                         0.557   \n",
       "11           1.441                    0.963                         0.558   \n",
       "12           1.455                    1.029                         0.371   \n",
       "13           1.479                    1.012                         0.526   \n",
       "14           1.538                    0.996                         0.450   \n",
       "15           1.553                    0.999                         0.516   \n",
       "16           1.454                    0.987                         0.495   \n",
       "17           1.504                    0.986                         0.473   \n",
       "18           1.457                    0.874                         0.454   \n",
       "19           1.487                    0.920                         0.457   \n",
       "\n",
       "    Generosity  Perceptions of corruption  \n",
       "0        0.153                      0.393  \n",
       "1        0.252                      0.410  \n",
       "2        0.271                      0.341  \n",
       "3        0.354                      0.118  \n",
       "4        0.322                      0.298  \n",
       "5        0.263                      0.343  \n",
       "6        0.267                      0.373  \n",
       "7        0.330                      0.380  \n",
       "8        0.285                      0.308  \n",
       "9        0.244                      0.226  \n",
       "10       0.332                      0.290  \n",
       "11       0.144                      0.093  \n",
       "12       0.261                      0.082  \n",
       "13       0.194                      0.316  \n",
       "14       0.348                      0.278  \n",
       "15       0.298                      0.310  \n",
       "16       0.261                      0.265  \n",
       "17       0.160                      0.210  \n",
       "18       0.280                      0.128  \n",
       "19       0.046                      0.036  "
      ]
     },
     "execution_count": 7,
     "metadata": {},
     "output_type": "execute_result"
    }
   ],
   "source": [
    "df.head(20)"
   ]
  },
  {
   "cell_type": "code",
   "execution_count": 8,
   "id": "ed55a9b9-0d92-4910-8f28-a81213426f90",
   "metadata": {},
   "outputs": [
    {
     "data": {
      "text/plain": [
       "(156, 10)"
      ]
     },
     "execution_count": 8,
     "metadata": {},
     "output_type": "execute_result"
    }
   ],
   "source": [
    "df.shape"
   ]
  },
  {
   "cell_type": "markdown",
   "id": "2b4ff789-3e07-45f2-aeec-3a6f33ee058d",
   "metadata": {},
   "source": [
    "##### Missing values"
   ]
  },
  {
   "cell_type": "code",
   "execution_count": 9,
   "id": "c0777226-0dd3-4349-b936-1c329ffdb24d",
   "metadata": {},
   "outputs": [
    {
     "data": {
      "text/plain": [
       "Unnamed: 0                      0\n",
       "Overall rank                    0\n",
       "Country or region               0\n",
       "Score                           0\n",
       "GDP per capita                  0\n",
       "Social support                  0\n",
       "Healthy life expectancy         0\n",
       "Freedom to make life choices    0\n",
       "Generosity                      0\n",
       "Perceptions of corruption       0\n",
       "dtype: int64"
      ]
     },
     "execution_count": 9,
     "metadata": {},
     "output_type": "execute_result"
    }
   ],
   "source": [
    "# Check for missing values\n",
    "\n",
    "df.isnull().sum()\n",
    "\n",
    "# No missing values to handle"
   ]
  },
  {
   "cell_type": "markdown",
   "id": "d7bcef5e-fce4-4922-b662-83884963e0e3",
   "metadata": {},
   "source": [
    "##### Duplicates check"
   ]
  },
  {
   "cell_type": "code",
   "execution_count": 10,
   "id": "407dbcad-2be8-4033-8763-8372a10d11c0",
   "metadata": {},
   "outputs": [],
   "source": [
    "dups = df.duplicated()"
   ]
  },
  {
   "cell_type": "code",
   "execution_count": 11,
   "id": "711c6d7d-2ce7-4f54-9199-3e128ab5e8e9",
   "metadata": {},
   "outputs": [
    {
     "data": {
      "text/plain": [
       "(156,)"
      ]
     },
     "execution_count": 11,
     "metadata": {},
     "output_type": "execute_result"
    }
   ],
   "source": [
    "dups.shape # No dups"
   ]
  },
  {
   "cell_type": "markdown",
   "id": "33c9bd16-b892-4d82-91b9-ed823b35cb45",
   "metadata": {},
   "source": [
    "##### Extreme values checks"
   ]
  },
  {
   "cell_type": "code",
   "execution_count": 12,
   "id": "94ebeeba-aec9-4ecf-b782-bc91460eb890",
   "metadata": {},
   "outputs": [
    {
     "name": "stderr",
     "output_type": "stream",
     "text": [
      "C:\\Users\\Frederick\\AppData\\Local\\Temp\\ipykernel_7012\\3121644600.py:1: UserWarning: \n",
      "\n",
      "`distplot` is a deprecated function and will be removed in seaborn v0.14.0.\n",
      "\n",
      "Please adapt your code to use either `displot` (a figure-level function with\n",
      "similar flexibility) or `histplot` (an axes-level function for histograms).\n",
      "\n",
      "For a guide to updating your code to use the new functions, please see\n",
      "https://gist.github.com/mwaskom/de44147ed2974457ad6372750bbe5751\n",
      "\n",
      "  sns.distplot(df['Score'], bins=25) # Shows extreme values\n"
     ]
    },
    {
     "data": {
      "text/plain": [
       "<Axes: xlabel='Score', ylabel='Density'>"
      ]
     },
     "execution_count": 12,
     "metadata": {},
     "output_type": "execute_result"
    },
    {
     "data": {
      "image/png": "[encoded data removed]",
      "text/plain": [
       "<Figure size 640x480 with 1 Axes>"
      ]
     },
     "metadata": {},
     "output_type": "display_data"
    }
   ],
   "source": [
    "sns.distplot(df['Score'], bins=25) # Shows extreme values\n",
    "\n",
    "# Some of the outliers in the high values may need to be removed, but let's try without doing so first."
   ]
  },
  {
   "cell_type": "code",
   "execution_count": 13,
   "id": "e4591a8f-cdcb-4329-903c-d2ed17bdea95",
   "metadata": {},
   "outputs": [
    {
     "data": {
      "text/plain": [
       "5.407096153846155"
      ]
     },
     "execution_count": 13,
     "metadata": {},
     "output_type": "execute_result"
    }
   ],
   "source": [
    "df['Score'].mean() # Check the mean"
   ]
  },
  {
   "cell_type": "code",
   "execution_count": 14,
   "id": "d57aa10a-88cc-45e5-a5d3-dbd4214e3c3b",
   "metadata": {},
   "outputs": [
    {
     "data": {
      "text/plain": [
       "5.3795"
      ]
     },
     "execution_count": 14,
     "metadata": {},
     "output_type": "execute_result"
    }
   ],
   "source": [
    "df['Score'].median() # Check the median"
   ]
  },
  {
   "cell_type": "code",
   "execution_count": 15,
   "id": "82f21f9e-47b6-42c8-bf95-b5e48ad39c0e",
   "metadata": {},
   "outputs": [
    {
     "data": {
      "text/plain": [
       "7.769"
      ]
     },
     "execution_count": 15,
     "metadata": {},
     "output_type": "execute_result"
    }
   ],
   "source": [
    "df['Score'].max() # Check the max"
   ]
  },
  {
   "cell_type": "markdown",
   "id": "a5317cfc-8c47-40cf-af1c-3e54b286637b",
   "metadata": {},
   "source": [
    "### 3. Data prep for regression analysis "
   ]
  },
  {
   "cell_type": "markdown",
   "id": "140d7baa-277c-48b7-a9c0-33c420e3394e",
   "metadata": {},
   "source": [
    "## Hypothesis: The perception of corruption in a region has no impact on the Happiness Score of that region."
   ]
  },
  {
   "cell_type": "code",
   "execution_count": 16,
   "id": "4f8e4a69-e2ab-4234-bc26-f6c186ccfad7",
   "metadata": {},
   "outputs": [
    {
     "data": {
      "image/png": "[encoded data removed]",
      "text/plain": [
       "<Figure size 640x480 with 1 Axes>"
      ]
     },
     "metadata": {},
     "output_type": "display_data"
    }
   ],
   "source": [
    "# Create a scatterplot using matplotlib for another look at how the chosen variables plot against each other.\n",
    "\n",
    "df.plot(x = 'Perceptions of corruption', y='Score',style='o') # The style option creates a scatterplot; without it, we only have lines.\n",
    "plt.title('Perceptions of corruption vs Happiness Score')  \n",
    "plt.xlabel('Perceptions of corruption')  \n",
    "plt.ylabel('Score')  \n",
    "plt.show()"
   ]
  },
  {
   "cell_type": "code",
   "execution_count": 17,
   "id": "628d74d0-060a-438c-a165-eacb53e791e3",
   "metadata": {},
   "outputs": [],
   "source": [
    "# Reshape the variables into NumPy arrays and put them into separate objects.\n",
    "\n",
    "X = df['Perceptions of corruption'].values.reshape(-1,1)\n",
    "y = df['Score'].values.reshape(-1,1)"
   ]
  },
  {
   "cell_type": "code",
   "execution_count": 18,
   "id": "4fbcddb6-9506-4d53-bfec-70c7caca81f7",
   "metadata": {},
   "outputs": [
    {
     "data": {
      "text/plain": [
       "array([[0.393],\n",
       "       [0.41 ],\n",
       "       [0.341],\n",
       "       [0.118],\n",
       "       [0.298],\n",
       "       [0.343],\n",
       "       [0.373],\n",
       "       [0.38 ],\n",
       "       [0.308],\n",
       "       [0.226],\n",
       "       [0.29 ],\n",
       "       [0.093],\n",
       "       [0.082],\n",
       "       [0.316],\n",
       "       [0.278],\n",
       "       [0.31 ],\n",
       "       [0.265],\n",
       "       [0.21 ],\n",
       "       [0.128],\n",
       "       [0.036],\n",
       "       [0.182],\n",
       "       [0.151],\n",
       "       [0.073],\n",
       "       [0.183],\n",
       "       [0.097],\n",
       "       [0.056],\n",
       "       [0.078],\n",
       "       [0.132],\n",
       "       [0.167],\n",
       "       [0.079],\n",
       "       [0.054],\n",
       "       [0.086],\n",
       "       [0.15 ],\n",
       "       [0.453],\n",
       "       [0.074],\n",
       "       [0.03 ],\n",
       "       [0.11 ],\n",
       "       [0.014],\n",
       "       [0.016],\n",
       "       [0.05 ],\n",
       "       [0.24 ],\n",
       "       [0.042],\n",
       "       [0.034],\n",
       "       [0.057],\n",
       "       [0.127],\n",
       "       [0.006],\n",
       "       [0.05 ],\n",
       "       [0.005],\n",
       "       [0.041],\n",
       "       [0.087],\n",
       "       [0.097],\n",
       "       [0.028],\n",
       "       [0.064],\n",
       "       [0.056],\n",
       "       [0.161],\n",
       "       [0.028],\n",
       "       [0.06 ],\n",
       "       [0.14 ],\n",
       "       [0.078],\n",
       "       [0.096],\n",
       "       [0.064],\n",
       "       [0.02 ],\n",
       "       [0.08 ],\n",
       "       [0.162],\n",
       "       [0.027],\n",
       "       [0.025],\n",
       "       [0.098],\n",
       "       [0.031],\n",
       "       [0.107],\n",
       "       [0.039],\n",
       "       [0.   ],\n",
       "       [0.152],\n",
       "       [0.08 ],\n",
       "       [0.144],\n",
       "       [0.022],\n",
       "       [0.287],\n",
       "       [0.101],\n",
       "       [0.006],\n",
       "       [0.106],\n",
       "       [0.024],\n",
       "       [0.142],\n",
       "       [0.034],\n",
       "       [0.038],\n",
       "       [0.034],\n",
       "       [0.041],\n",
       "       [0.023],\n",
       "       [0.028],\n",
       "       [0.114],\n",
       "       [0.076],\n",
       "       [0.182],\n",
       "       [0.027],\n",
       "       [0.028],\n",
       "       [0.1  ],\n",
       "       [0.073],\n",
       "       [0.167],\n",
       "       [0.037],\n",
       "       [0.004],\n",
       "       [0.04 ],\n",
       "       [0.09 ],\n",
       "       [0.089],\n",
       "       [0.13 ],\n",
       "       [0.082],\n",
       "       [0.093],\n",
       "       [0.055],\n",
       "       [0.164],\n",
       "       [0.055],\n",
       "       [0.027],\n",
       "       [0.047],\n",
       "       [0.062],\n",
       "       [0.066],\n",
       "       [0.072],\n",
       "       [0.27 ],\n",
       "       [0.056],\n",
       "       [0.102],\n",
       "       [0.113],\n",
       "       [0.064],\n",
       "       [0.125],\n",
       "       [0.086],\n",
       "       [0.164],\n",
       "       [0.167],\n",
       "       [0.053],\n",
       "       [0.088],\n",
       "       [0.138],\n",
       "       [0.055],\n",
       "       [0.143],\n",
       "       [0.089],\n",
       "       [0.053],\n",
       "       [0.052],\n",
       "       [0.045],\n",
       "       [0.047],\n",
       "       [0.172],\n",
       "       [0.078],\n",
       "       [0.01 ],\n",
       "       [0.1  ],\n",
       "       [0.135],\n",
       "       [0.06 ],\n",
       "       [0.067],\n",
       "       [0.087],\n",
       "       [0.085],\n",
       "       [0.085],\n",
       "       [0.033],\n",
       "       [0.078],\n",
       "       [0.041],\n",
       "       [0.093],\n",
       "       [0.18 ],\n",
       "       [0.089],\n",
       "       [0.11 ],\n",
       "       [0.1  ],\n",
       "       [0.141],\n",
       "       [0.089],\n",
       "       [0.077],\n",
       "       [0.411],\n",
       "       [0.147],\n",
       "       [0.025],\n",
       "       [0.035],\n",
       "       [0.091]])"
      ]
     },
     "execution_count": 18,
     "metadata": {},
     "output_type": "execute_result"
    }
   ],
   "source": [
    "X"
   ]
  },
  {
   "cell_type": "code",
   "execution_count": 19,
   "id": "cc185f4f-a3b9-41d5-a6e3-2d0d719ddf6e",
   "metadata": {},
   "outputs": [
    {
     "data": {
      "text/plain": [
       "array([[7.769],\n",
       "       [7.6  ],\n",
       "       [7.554],\n",
       "       [7.494],\n",
       "       [7.488],\n",
       "       [7.48 ],\n",
       "       [7.343],\n",
       "       [7.307],\n",
       "       [7.278],\n",
       "       [7.246],\n",
       "       [7.228],\n",
       "       [7.167],\n",
       "       [7.139],\n",
       "       [7.09 ],\n",
       "       [7.054],\n",
       "       [7.021],\n",
       "       [6.985],\n",
       "       [6.923],\n",
       "       [6.892],\n",
       "       [6.852],\n",
       "       [6.825],\n",
       "       [6.726],\n",
       "       [6.595],\n",
       "       [6.592],\n",
       "       [6.446],\n",
       "       [6.444],\n",
       "       [6.436],\n",
       "       [6.375],\n",
       "       [6.374],\n",
       "       [6.354],\n",
       "       [6.321],\n",
       "       [6.3  ],\n",
       "       [6.293],\n",
       "       [6.262],\n",
       "       [6.253],\n",
       "       [6.223],\n",
       "       [6.199],\n",
       "       [6.198],\n",
       "       [6.192],\n",
       "       [6.182],\n",
       "       [6.174],\n",
       "       [6.149],\n",
       "       [6.125],\n",
       "       [6.118],\n",
       "       [6.105],\n",
       "       [6.1  ],\n",
       "       [6.086],\n",
       "       [6.07 ],\n",
       "       [6.046],\n",
       "       [6.028],\n",
       "       [6.021],\n",
       "       [6.008],\n",
       "       [5.94 ],\n",
       "       [5.895],\n",
       "       [5.893],\n",
       "       [5.89 ],\n",
       "       [5.888],\n",
       "       [5.886],\n",
       "       [5.86 ],\n",
       "       [5.809],\n",
       "       [5.779],\n",
       "       [5.758],\n",
       "       [5.743],\n",
       "       [5.718],\n",
       "       [5.697],\n",
       "       [5.693],\n",
       "       [5.653],\n",
       "       [5.648],\n",
       "       [5.631],\n",
       "       [5.603],\n",
       "       [5.529],\n",
       "       [5.525],\n",
       "       [5.523],\n",
       "       [5.467],\n",
       "       [5.432],\n",
       "       [5.43 ],\n",
       "       [5.425],\n",
       "       [5.386],\n",
       "       [5.373],\n",
       "       [5.339],\n",
       "       [5.323],\n",
       "       [5.287],\n",
       "       [5.285],\n",
       "       [5.274],\n",
       "       [5.265],\n",
       "       [5.261],\n",
       "       [5.247],\n",
       "       [5.211],\n",
       "       [5.208],\n",
       "       [5.208],\n",
       "       [5.197],\n",
       "       [5.192],\n",
       "       [5.191],\n",
       "       [5.175],\n",
       "       [5.082],\n",
       "       [5.044],\n",
       "       [5.011],\n",
       "       [4.996],\n",
       "       [4.944],\n",
       "       [4.913],\n",
       "       [4.906],\n",
       "       [4.883],\n",
       "       [4.812],\n",
       "       [4.799],\n",
       "       [4.796],\n",
       "       [4.722],\n",
       "       [4.719],\n",
       "       [4.707],\n",
       "       [4.7  ],\n",
       "       [4.696],\n",
       "       [4.681],\n",
       "       [4.668],\n",
       "       [4.639],\n",
       "       [4.628],\n",
       "       [4.587],\n",
       "       [4.559],\n",
       "       [4.548],\n",
       "       [4.534],\n",
       "       [4.519],\n",
       "       [4.516],\n",
       "       [4.509],\n",
       "       [4.49 ],\n",
       "       [4.466],\n",
       "       [4.461],\n",
       "       [4.456],\n",
       "       [4.437],\n",
       "       [4.418],\n",
       "       [4.39 ],\n",
       "       [4.374],\n",
       "       [4.366],\n",
       "       [4.36 ],\n",
       "       [4.35 ],\n",
       "       [4.332],\n",
       "       [4.286],\n",
       "       [4.212],\n",
       "       [4.189],\n",
       "       [4.166],\n",
       "       [4.107],\n",
       "       [4.085],\n",
       "       [4.015],\n",
       "       [3.975],\n",
       "       [3.973],\n",
       "       [3.933],\n",
       "       [3.802],\n",
       "       [3.775],\n",
       "       [3.663],\n",
       "       [3.597],\n",
       "       [3.488],\n",
       "       [3.462],\n",
       "       [3.41 ],\n",
       "       [3.38 ],\n",
       "       [3.334],\n",
       "       [3.231],\n",
       "       [3.203],\n",
       "       [3.083],\n",
       "       [2.853]])"
      ]
     },
     "execution_count": 19,
     "metadata": {},
     "output_type": "execute_result"
    }
   ],
   "source": [
    "y"
   ]
  },
  {
   "cell_type": "code",
   "execution_count": 20,
   "id": "a67ba905-5fb7-48bc-9055-24291884d91e",
   "metadata": {},
   "outputs": [],
   "source": [
    "# Split data into a training set and a test set.\n",
    "\n",
    "X_train, X_test, y_train, y_test = train_test_split(X, y, test_size=0.3, random_state=0)"
   ]
  },
  {
   "cell_type": "markdown",
   "id": "427c1b3a-da1c-4934-8753-3454ec866635",
   "metadata": {},
   "source": [
    "### 4. Regression analysis"
   ]
  },
  {
   "cell_type": "code",
   "execution_count": 21,
   "id": "654410ab-44c1-4e83-a451-0ea0842e51ff",
   "metadata": {},
   "outputs": [],
   "source": [
    "# Create a regression object.\n",
    "\n",
    "regression = LinearRegression()  # This is the regression object, which will be fit onto the training set."
   ]
  },
  {
   "cell_type": "code",
   "execution_count": 22,
   "id": "dec3f512-3ee3-4a1c-8054-98d899ba1ebb",
   "metadata": {},
   "outputs": [
    {
     "data": {
      "text/html": [
       "<style>#sk-container-id-1 {color: black;background-color: white;}#sk-container-id-1 pre{padding: 0;}#sk-container-id-1 div.sk-toggleable {background-color: white;}#sk-container-id-1 label.sk-toggleable__label {cursor: pointer;display: block;width: 100%;margin-bottom: 0;padding: 0.3em;box-sizing: border-box;text-align: center;}#sk-container-id-1 label.sk-toggleable__label-arrow:before {content: \"▸\";float: left;margin-right: 0.25em;color: #696969;}#sk-container-id-1 label.sk-toggleable__label-arrow:hover:before {color: black;}#sk-container-id-1 div.sk-estimator:hover label.sk-toggleable__label-arrow:before {color: black;}#sk-container-id-1 div.sk-toggleable__content {max-height: 0;max-width: 0;overflow: hidden;text-align: left;background-color: #f0f8ff;}#sk-container-id-1 div.sk-toggleable__content pre {margin: 0.2em;color: black;border-radius: 0.25em;background-color: #f0f8ff;}#sk-container-id-1 input.sk-toggleable__control:checked~div.sk-toggleable__content {max-height: 200px;max-width: 100%;overflow: auto;}#sk-container-id-1 input.sk-toggleable__control:checked~label.sk-toggleable__label-arrow:before {content: \"▾\";}#sk-container-id-1 div.sk-estimator input.sk-toggleable__control:checked~label.sk-toggleable__label {background-color: #d4ebff;}#sk-container-id-1 div.sk-label input.sk-toggleable__control:checked~label.sk-toggleable__label {background-color: #d4ebff;}#sk-container-id-1 input.sk-hidden--visually {border: 0;clip: rect(1px 1px 1px 1px);clip: rect(1px, 1px, 1px, 1px);height: 1px;margin: -1px;overflow: hidden;padding: 0;position: absolute;width: 1px;}#sk-container-id-1 div.sk-estimator {font-family: monospace;background-color: #f0f8ff;border: 1px dotted black;border-radius: 0.25em;box-sizing: border-box;margin-bottom: 0.5em;}#sk-container-id-1 div.sk-estimator:hover {background-color: #d4ebff;}#sk-container-id-1 div.sk-parallel-item::after {content: \"\";width: 100%;border-bottom: 1px solid gray;flex-grow: 1;}#sk-container-id-1 div.sk-label:hover label.sk-toggleable__label {background-color: #d4ebff;}#sk-container-id-1 div.sk-serial::before {content: \"\";position: absolute;border-left: 1px solid gray;box-sizing: border-box;top: 0;bottom: 0;left: 50%;z-index: 0;}#sk-container-id-1 div.sk-serial {display: flex;flex-direction: column;align-items: center;background-color: white;padding-right: 0.2em;padding-left: 0.2em;position: relative;}#sk-container-id-1 div.sk-item {position: relative;z-index: 1;}#sk-container-id-1 div.sk-parallel {display: flex;align-items: stretch;justify-content: center;background-color: white;position: relative;}#sk-container-id-1 div.sk-item::before, #sk-container-id-1 div.sk-parallel-item::before {content: \"\";position: absolute;border-left: 1px solid gray;box-sizing: border-box;top: 0;bottom: 0;left: 50%;z-index: -1;}#sk-container-id-1 div.sk-parallel-item {display: flex;flex-direction: column;z-index: 1;position: relative;background-color: white;}#sk-container-id-1 div.sk-parallel-item:first-child::after {align-self: flex-end;width: 50%;}#sk-container-id-1 div.sk-parallel-item:last-child::after {align-self: flex-start;width: 50%;}#sk-container-id-1 div.sk-parallel-item:only-child::after {width: 0;}#sk-container-id-1 div.sk-dashed-wrapped {border: 1px dashed gray;margin: 0 0.4em 0.5em 0.4em;box-sizing: border-box;padding-bottom: 0.4em;background-color: white;}#sk-container-id-1 div.sk-label label {font-family: monospace;font-weight: bold;display: inline-block;line-height: 1.2em;}#sk-container-id-1 div.sk-label-container {text-align: center;}#sk-container-id-1 div.sk-container {/* jupyter's `normalize.less` sets `[hidden] { display: none; }` but bootstrap.min.css set `[hidden] { display: none !important; }` so we also need the `!important` here to be able to override the default hidden behavior on the sphinx rendered scikit-learn.org. See: https://github.com/scikit-learn/scikit-learn/issues/21755 */display: inline-block !important;position: relative;}#sk-container-id-1 div.sk-text-repr-fallback {display: none;}</style><div id=\"sk-container-id-1\" class=\"sk-top-container\"><div class=\"sk-text-repr-fallback\"><pre>LinearRegression()</pre><b>In a Jupyter environment, please rerun this cell to show the HTML representation or trust the notebook. <br />On GitHub, the HTML representation is unable to render, please try loading this page with nbviewer.org.</b></div><div class=\"sk-container\" hidden><div class=\"sk-item\"><div class=\"sk-estimator sk-toggleable\"><input class=\"sk-toggleable__control sk-hidden--visually\" id=\"sk-estimator-id-1\" type=\"checkbox\" checked><label for=\"sk-estimator-id-1\" class=\"sk-toggleable__label sk-toggleable__label-arrow\">LinearRegression</label><div class=\"sk-toggleable__content\"><pre>LinearRegression()</pre></div></div></div></div></div>"
      ],
      "text/plain": [
       "LinearRegression()"
      ]
     },
     "execution_count": 22,
     "metadata": {},
     "output_type": "execute_result"
    }
   ],
   "source": [
    "# Fit the regression object onto the training set.\n",
    "\n",
    "regression.fit(X_train, y_train)"
   ]
  },
  {
   "cell_type": "code",
   "execution_count": 23,
   "id": "bb4ac875-aa4d-4fa3-895e-18a9f6296118",
   "metadata": {},
   "outputs": [],
   "source": [
    "# Predict the values of y using X.\n",
    "\n",
    "y_predicted = regression.predict(X_test)"
   ]
  },
  {
   "cell_type": "code",
   "execution_count": 24,
   "id": "aa8deaab-e81b-4bc9-bd65-e3fb0e794b68",
   "metadata": {},
   "outputs": [
    {
     "data": {
      "image/png": "[encoded data removed]",
      "text/plain": [
       "<Figure size 640x480 with 1 Axes>"
      ]
     },
     "metadata": {},
     "output_type": "display_data"
    }
   ],
   "source": [
    "# Create a plot that shows the regression line from the model on the test set.\n",
    "\n",
    "plot_test = plt\n",
    "plot_test.scatter(X_test, y_test, color='gray', s = 15)\n",
    "plot_test.plot(X_test, y_predicted, color='red', linewidth =3)\n",
    "plot_test.title('Perceptions of corruption vs Happiness Score (Test set)')\n",
    "plot_test.xlabel('Perceptions of corruption')\n",
    "plot_test.ylabel('Score')\n",
    "plot_test.show()"
   ]
  },
  {
   "cell_type": "markdown",
   "id": "51e928c3-2176-4dff-9121-560e2a40e043",
   "metadata": {},
   "source": [
    "Interpretation :  We see that in the majority of the regions where there is a low perception of corruption that there is a middle to high Happiness score, so we could conclude that the corruption perception has an influence on the Happiness Score. "
   ]
  },
  {
   "cell_type": "code",
   "execution_count": 25,
   "id": "95ce4126-63da-4663-ab48-5589716b9921",
   "metadata": {},
   "outputs": [],
   "source": [
    "# Create objects that contain the model summary statistics.\n",
    "\n",
    "rmse = mean_squared_error(y_test, y_predicted) # This is the mean squared error\n",
    "r2 = r2_score(y_test, y_predicted) # This is the R2 score. "
   ]
  },
  {
   "cell_type": "code",
   "execution_count": 26,
   "id": "b4c73d37-efc1-41c9-9b11-c8f67d0d9cb6",
   "metadata": {},
   "outputs": [
    {
     "name": "stdout",
     "output_type": "stream",
     "text": [
      "Slope: [[5.11823339]]\n",
      "Mean squared error:  0.9534495657105875\n",
      "R2 score:  0.06315507042831225\n"
     ]
    }
   ],
   "source": [
    "# Print the model summary statistics. This is where you evaluate the performance of the model.\n",
    "\n",
    "print('Slope:' ,regression.coef_)\n",
    "print('Mean squared error: ', rmse)\n",
    "print('R2 score: ', r2)"
   ]
  },
  {
   "cell_type": "code",
   "execution_count": 27,
   "id": "e6ce868a-4fa3-4be1-b86b-a26c090d117f",
   "metadata": {},
   "outputs": [
    {
     "data": {
      "text/plain": [
       "array([[5.24316211],\n",
       "       [5.66797548],\n",
       "       [4.91559518],\n",
       "       [5.13056098],\n",
       "       [5.34040855],\n",
       "       [6.7888686 ],\n",
       "       [4.87464931],\n",
       "       [5.08449688],\n",
       "       [5.28922621],\n",
       "       [6.07231592],\n",
       "       [4.98213221],\n",
       "       [4.98725044],\n",
       "       [5.16127038],\n",
       "       [5.69868488],\n",
       "       [5.15103391],\n",
       "       [5.35576325],\n",
       "       [7.16249963],\n",
       "       [5.68333018],\n",
       "       [5.49395555],\n",
       "       [5.07426041],\n",
       "       [5.29946268],\n",
       "       [6.42035579],\n",
       "       [5.27898975],\n",
       "       [5.33529031],\n",
       "       [6.22586292],\n",
       "       [5.59632022],\n",
       "       [4.96165928],\n",
       "       [5.25339858],\n",
       "       [5.01795984],\n",
       "       [5.69868488],\n",
       "       [6.20027176],\n",
       "       [5.02819631],\n",
       "       [4.89512224],\n",
       "       [5.04866924],\n",
       "       [5.21757095],\n",
       "       [5.57072905],\n",
       "       [5.26363505],\n",
       "       [5.31993561],\n",
       "       [5.35576325],\n",
       "       [5.51954672],\n",
       "       [5.18174331],\n",
       "       [5.27898975],\n",
       "       [4.86441284],\n",
       "       [5.49907378],\n",
       "       [4.94630458],\n",
       "       [5.12032451],\n",
       "       [5.62191138]])"
      ]
     },
     "execution_count": 27,
     "metadata": {},
     "output_type": "execute_result"
    }
   ],
   "source": [
    "y_predicted"
   ]
  },
  {
   "cell_type": "code",
   "execution_count": 28,
   "id": "51494e58-1999-4a93-9777-10d50bce2dab",
   "metadata": {},
   "outputs": [
    {
     "data": {
      "text/html": [
       "<div>\n",
       "<style scoped>\n",
       "    .dataframe tbody tr th:only-of-type {\n",
       "        vertical-align: middle;\n",
       "    }\n",
       "\n",
       "    .dataframe tbody tr th {\n",
       "        vertical-align: top;\n",
       "    }\n",
       "\n",
       "    .dataframe thead th {\n",
       "        text-align: right;\n",
       "    }\n",
       "</style>\n",
       "<table border=\"1\" class=\"dataframe\">\n",
       "  <thead>\n",
       "    <tr style=\"text-align: right;\">\n",
       "      <th></th>\n",
       "      <th>Actual</th>\n",
       "      <th>Predicted</th>\n",
       "    </tr>\n",
       "  </thead>\n",
       "  <tbody>\n",
       "    <tr>\n",
       "      <th>0</th>\n",
       "      <td>6.436</td>\n",
       "      <td>5.243162</td>\n",
       "    </tr>\n",
       "    <tr>\n",
       "      <th>1</th>\n",
       "      <td>5.893</td>\n",
       "      <td>5.667975</td>\n",
       "    </tr>\n",
       "    <tr>\n",
       "      <th>2</th>\n",
       "      <td>6.198</td>\n",
       "      <td>4.915595</td>\n",
       "    </tr>\n",
       "    <tr>\n",
       "      <th>3</th>\n",
       "      <td>4.639</td>\n",
       "      <td>5.130561</td>\n",
       "    </tr>\n",
       "    <tr>\n",
       "      <th>4</th>\n",
       "      <td>6.446</td>\n",
       "      <td>5.340409</td>\n",
       "    </tr>\n",
       "    <tr>\n",
       "      <th>5</th>\n",
       "      <td>7.307</td>\n",
       "      <td>6.788869</td>\n",
       "    </tr>\n",
       "    <tr>\n",
       "      <th>6</th>\n",
       "      <td>6.100</td>\n",
       "      <td>4.874649</td>\n",
       "    </tr>\n",
       "    <tr>\n",
       "      <th>7</th>\n",
       "      <td>4.707</td>\n",
       "      <td>5.084497</td>\n",
       "    </tr>\n",
       "    <tr>\n",
       "      <th>8</th>\n",
       "      <td>4.107</td>\n",
       "      <td>5.289226</td>\n",
       "    </tr>\n",
       "    <tr>\n",
       "      <th>9</th>\n",
       "      <td>6.174</td>\n",
       "      <td>6.072316</td>\n",
       "    </tr>\n",
       "    <tr>\n",
       "      <th>10</th>\n",
       "      <td>5.197</td>\n",
       "      <td>4.982132</td>\n",
       "    </tr>\n",
       "    <tr>\n",
       "      <th>11</th>\n",
       "      <td>6.008</td>\n",
       "      <td>4.987250</td>\n",
       "    </tr>\n",
       "    <tr>\n",
       "      <th>12</th>\n",
       "      <td>4.700</td>\n",
       "      <td>5.161270</td>\n",
       "    </tr>\n",
       "    <tr>\n",
       "      <th>13</th>\n",
       "      <td>4.516</td>\n",
       "      <td>5.698685</td>\n",
       "    </tr>\n",
       "    <tr>\n",
       "      <th>14</th>\n",
       "      <td>5.888</td>\n",
       "      <td>5.151034</td>\n",
       "    </tr>\n",
       "    <tr>\n",
       "      <th>15</th>\n",
       "      <td>3.488</td>\n",
       "      <td>5.355763</td>\n",
       "    </tr>\n",
       "    <tr>\n",
       "      <th>16</th>\n",
       "      <td>6.262</td>\n",
       "      <td>7.162500</td>\n",
       "    </tr>\n",
       "    <tr>\n",
       "      <th>17</th>\n",
       "      <td>4.519</td>\n",
       "      <td>5.683330</td>\n",
       "    </tr>\n",
       "    <tr>\n",
       "      <th>18</th>\n",
       "      <td>6.105</td>\n",
       "      <td>5.493956</td>\n",
       "    </tr>\n",
       "    <tr>\n",
       "      <th>19</th>\n",
       "      <td>4.374</td>\n",
       "      <td>5.074260</td>\n",
       "    </tr>\n",
       "    <tr>\n",
       "      <th>20</th>\n",
       "      <td>3.663</td>\n",
       "      <td>5.299463</td>\n",
       "    </tr>\n",
       "    <tr>\n",
       "      <th>21</th>\n",
       "      <td>7.278</td>\n",
       "      <td>6.420356</td>\n",
       "    </tr>\n",
       "    <tr>\n",
       "      <th>22</th>\n",
       "      <td>4.015</td>\n",
       "      <td>5.278990</td>\n",
       "    </tr>\n",
       "    <tr>\n",
       "      <th>23</th>\n",
       "      <td>5.809</td>\n",
       "      <td>5.335290</td>\n",
       "    </tr>\n",
       "    <tr>\n",
       "      <th>24</th>\n",
       "      <td>4.668</td>\n",
       "      <td>6.225863</td>\n",
       "    </tr>\n",
       "    <tr>\n",
       "      <th>25</th>\n",
       "      <td>3.231</td>\n",
       "      <td>5.596320</td>\n",
       "    </tr>\n",
       "    <tr>\n",
       "      <th>26</th>\n",
       "      <td>5.261</td>\n",
       "      <td>4.961659</td>\n",
       "    </tr>\n",
       "    <tr>\n",
       "      <th>27</th>\n",
       "      <td>5.743</td>\n",
       "      <td>5.253399</td>\n",
       "    </tr>\n",
       "    <tr>\n",
       "      <th>28</th>\n",
       "      <td>5.274</td>\n",
       "      <td>5.017960</td>\n",
       "    </tr>\n",
       "    <tr>\n",
       "      <th>29</th>\n",
       "      <td>5.082</td>\n",
       "      <td>5.698685</td>\n",
       "    </tr>\n",
       "  </tbody>\n",
       "</table>\n",
       "</div>"
      ],
      "text/plain": [
       "    Actual  Predicted\n",
       "0    6.436   5.243162\n",
       "1    5.893   5.667975\n",
       "2    6.198   4.915595\n",
       "3    4.639   5.130561\n",
       "4    6.446   5.340409\n",
       "5    7.307   6.788869\n",
       "6    6.100   4.874649\n",
       "7    4.707   5.084497\n",
       "8    4.107   5.289226\n",
       "9    6.174   6.072316\n",
       "10   5.197   4.982132\n",
       "11   6.008   4.987250\n",
       "12   4.700   5.161270\n",
       "13   4.516   5.698685\n",
       "14   5.888   5.151034\n",
       "15   3.488   5.355763\n",
       "16   6.262   7.162500\n",
       "17   4.519   5.683330\n",
       "18   6.105   5.493956\n",
       "19   4.374   5.074260\n",
       "20   3.663   5.299463\n",
       "21   7.278   6.420356\n",
       "22   4.015   5.278990\n",
       "23   5.809   5.335290\n",
       "24   4.668   6.225863\n",
       "25   3.231   5.596320\n",
       "26   5.261   4.961659\n",
       "27   5.743   5.253399\n",
       "28   5.274   5.017960\n",
       "29   5.082   5.698685"
      ]
     },
     "execution_count": 28,
     "metadata": {},
     "output_type": "execute_result"
    }
   ],
   "source": [
    "# Create a dataframe comparing the actual and predicted values of y.\n",
    "\n",
    "data = pd.DataFrame({'Actual': y_test.flatten(), 'Predicted': y_predicted.flatten()})\n",
    "data.head(30)"
   ]
  },
  {
   "cell_type": "markdown",
   "id": "9616b916-10a4-4cf3-8517-9c4a1cc243f9",
   "metadata": {},
   "source": [
    "##### Compare how the regression fits the training set"
   ]
  },
  {
   "cell_type": "code",
   "execution_count": 29,
   "id": "e7d81626-6afe-4ea7-9529-fa391c465819",
   "metadata": {},
   "outputs": [],
   "source": [
    "# Predict.\n",
    "\n",
    "y_predicted_train = regression.predict(X_train) # This is predicting X_train!"
   ]
  },
  {
   "cell_type": "code",
   "execution_count": 30,
   "id": "74c0c1dd-6842-4b7a-89ba-310ca9f4201f",
   "metadata": {},
   "outputs": [],
   "source": [
    "rmse = mean_squared_error(y_train, y_predicted_train)\n",
    "r2 = r2_score(y_train, y_predicted_train)"
   ]
  },
  {
   "cell_type": "code",
   "execution_count": 31,
   "id": "c88a80f2-e4e5-46f9-8367-bbff019a19fd",
   "metadata": {},
   "outputs": [
    {
     "name": "stdout",
     "output_type": "stream",
     "text": [
      "Slope: [[5.11823339]]\n",
      "Mean squared error:  1.0930732401252314\n",
      "R2 score:  0.1738224403243841\n"
     ]
    }
   ],
   "source": [
    "print('Slope:' ,regression.coef_)\n",
    "print('Mean squared error: ', rmse)\n",
    "print('R2 score: ', r2)"
   ]
  },
  {
   "cell_type": "code",
   "execution_count": 32,
   "id": "2c42c1b4-32e4-4375-8d0a-f7801c683db9",
   "metadata": {},
   "outputs": [
    {
     "data": {
      "image/png": "[encoded data removed]",
      "text/plain": [
       "<Figure size 640x480 with 1 Axes>"
      ]
     },
     "metadata": {},
     "output_type": "display_data"
    }
   ],
   "source": [
    "# Visualizing the training set results.\n",
    "\n",
    "plot_test = plt\n",
    "plot_test.scatter(X_train, y_train, color='green', s = 15)\n",
    "plot_test.plot(X_train, y_predicted_train, color='red', linewidth =3)\n",
    "plot_test.title('Perceptions of corruption vs Happiness Score (Train set)')\n",
    "plot_test.xlabel('Perceptions of corruption')\n",
    "plot_test.ylabel('Score')\n",
    "plot_test.show()"
   ]
  },
  {
   "cell_type": "markdown",
   "id": "a42b63f1-76c9-446b-9716-6587035c0a14",
   "metadata": {},
   "source": [
    "The model really performed well, but there could be some bias, because the lack of perception of corruption, doesn't always mean a higher Happiness Score."
   ]
  },
  {
   "cell_type": "code",
   "execution_count": null,
   "id": "7e37ecb1-8876-44eb-92c4-5af7c3e66c48",
   "metadata": {},
   "outputs": [],
   "source": []
  }
 ],
 "metadata": {
  "kernelspec": {
   "display_name": "Python 3 (ipykernel)",
   "language": "python",
   "name": "python3"
  },
  "language_info": {
   "codemirror_mode": {
    "name": "ipython",
    "version": 3
   },
   "file_extension": ".py",
   "mimetype": "text/x-python",
   "name": "python",
   "nbconvert_exporter": "python",
   "pygments_lexer": "ipython3",
   "version": "3.11.7"
  }
 },
 "nbformat": 4,
 "nbformat_minor": 5
}
